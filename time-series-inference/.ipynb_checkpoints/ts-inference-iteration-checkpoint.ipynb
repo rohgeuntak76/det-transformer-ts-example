{
 "cells": [
  {
   "cell_type": "code",
   "execution_count": 3,
   "id": "b8f5b445-bcb8-4f35-8a01-366bd8acbbd9",
   "metadata": {
    "tags": []
   },
   "outputs": [],
   "source": [
    "from determined.experimental import client\n",
    "\n",
    "experiment_id = 262\n",
    "\n",
    "chk = client.get_experiment(experiment_id).list_checkpoints(sort_by=\"Mean Absolute Percentage Error\",order_by=client.OrderBy.ASC,max_results=1)"
   ]
  },
  {
   "cell_type": "code",
   "execution_count": 4,
   "id": "e2294454-2f78-4364-a294-e366263f1997",
   "metadata": {
    "tags": []
   },
   "outputs": [
    {
     "name": "stdout",
     "output_type": "stream",
     "text": [
      "[Checkpoint(uuid=51281567-d7d6-43ca-bfd5-ecc629508bd8, task_id=262.a56d0ede-ca0a-4acb-9154-406057020bf0, trial_id=529)]\n"
     ]
    }
   ],
   "source": [
    "print(chk)"
   ]
  },
  {
   "cell_type": "code",
   "execution_count": 5,
   "id": "e7c83367-224c-4cb7-bb62-87bc292a185c",
   "metadata": {
    "tags": []
   },
   "outputs": [
    {
     "name": "stdout",
     "output_type": "stream",
     "text": [
      "checkpoints/51281567-d7d6-43ca-bfd5-ecc629508bd8\n",
      "total 180\n",
      "drwxr-xr-x 2 root root     61 Nov  7 07:59 .\n",
      "drwxr-xr-x 3 root root     50 Nov  7 07:59 ..\n",
      "-rw-rw-rw- 1 root root 174690 Jan  1  1970 checkpoint.pt\n",
      "-rw-rw-rw- 1 root root    105 Jan  1  1970 metadata.json\n",
      "-rw-rw-rw- 1 root root      7 Jan  1  1970 state\n"
     ]
    }
   ],
   "source": [
    "path = chk[0].download()\n",
    "\n",
    "print(path)\n",
    "\n",
    "!ls -al checkpoints/51281567-d7d6-43ca-bfd5-ecc629508bd8"
   ]
  },
  {
   "cell_type": "code",
   "execution_count": 6,
   "id": "54ffae07-7de7-4687-9430-f6b6ffa0b273",
   "metadata": {
    "tags": []
   },
   "outputs": [
    {
     "name": "stdout",
     "output_type": "stream",
     "text": [
      "{'batch_size': 32, 'dim_feedforward': 10, 'lr': 0.0001, 'num_heads': 2, 'num_layers': 2, 'seq_length': 8}\n"
     ]
    }
   ],
   "source": [
    "trial = client.get_trial(529)\n",
    "hparams = trial.hparams\n",
    "print(hparams)"
   ]
  },
  {
   "cell_type": "code",
   "execution_count": 7,
   "id": "ab2cc7b6-5eee-4d7c-860a-f49a40188f95",
   "metadata": {
    "tags": []
   },
   "outputs": [
    {
     "name": "stderr",
     "output_type": "stream",
     "text": [
      "/usr/local/lib/python3.10/dist-packages/torch/nn/modules/transformer.py:292: UserWarning: enable_nested_tensor is True, but self.use_nested_tensor is False because encoder_layer.self_attn.batch_first was not True(use batch_first for better inference performance)\n",
      "  warnings.warn(f\"enable_nested_tensor is True, but self.use_nested_tensor is False because {why_not_sparsity_fast_path}\")\n"
     ]
    },
    {
     "data": {
      "text/plain": [
       "<All keys matched successfully>"
      ]
     },
     "execution_count": 7,
     "metadata": {},
     "output_type": "execute_result"
    }
   ],
   "source": [
    "import math\n",
    "import torch\n",
    "import torch.nn as nn\n",
    "\n",
    "class PositionalEncoding(nn.Module):\n",
    "    def __init__(self, d_model, max_len=5000):\n",
    "        super(PositionalEncoding, self).__init__()       \n",
    "        pe = torch.zeros(max_len, d_model)\n",
    "        position = torch.arange(0, max_len, dtype=torch.float).unsqueeze(1)\n",
    "        div_term = torch.exp(torch.arange(0, d_model, 2).float() * (-math.log(10000.0) / d_model))\n",
    "        pe[:, 0::2] = torch.sin(position * div_term)\n",
    "        pe[:, 1::2] = torch.cos(position * div_term)\n",
    "        pe = pe.unsqueeze(0).transpose(0, 1)\n",
    "        # self.register_buffer('pe', pe)\n",
    "        self.register_parameter('pe', nn.Parameter(pe, requires_grad=False))\n",
    "\n",
    "    def forward(self, x):\n",
    "        return x + self.pe[:x.size(0), :]\n",
    "\n",
    "class TransformerModel(nn.Module): # inherts from nn.Modeul which is a base class of PyTorch with useful methods and attributes\n",
    "    def __init__(self, hparams):\n",
    "        super(TransformerModel, self).__init__() # calling the constructor (def __init__) of nn.Module\n",
    "        input_dim = 1\n",
    "        seq_length = hparams[\"seq_length\"]\n",
    "        num_layers = hparams[\"num_layers\"]\n",
    "        num_heads = hparams[\"num_heads\"]\n",
    "        dim_feedforward = hparams[\"dim_feedforward\"]\n",
    "        output_dim = 1\n",
    "        self.embedding = nn.Linear(input_dim, seq_length) # use linear layer as an embedding layer.\n",
    "        transformer_layer = nn.TransformerEncoderLayer(d_model=seq_length, nhead=num_heads, dim_feedforward=dim_feedforward)\n",
    "        self.transformer = nn.TransformerEncoder(transformer_layer, num_layers=num_layers)\n",
    "        self.fc_out = nn.Linear(seq_length, output_dim)\n",
    "        self.pos_encoder = PositionalEncoding(seq_length)\n",
    "\n",
    "    def forward(self, src):\n",
    "        src = self.embedding(src)\n",
    "        src = self.pos_encoder(src)\n",
    "        src = src.permute(1, 0, 2)  # Reshape for transformer. Reshape input tensor to fit requirements of transformer encoder, which is this format (sequence length, batch size, features)\n",
    "        output = self.transformer(src)\n",
    "        output = output.permute(1, 0, 2)  # Reshape back\n",
    "        output = self.fc_out(output) # [batch, seq, seq] -> [batch, seq, 1]\n",
    "        return output[:,-1,:] \n",
    "\n",
    "device = torch.device(\"cuda\")\n",
    "model = TransformerModel(hparams).to(device)\n",
    "\n",
    "chk_file = path + \"/checkpoint.pt\"\n",
    "loaded_state = torch.load(chk_file)\n",
    "\n",
    "for key in loaded_state.copy().keys():\n",
    "    # print(key)\n",
    "    if 'module.' in key:\n",
    "        loaded_state[key.replace('module.','')] = loaded_state[key]\n",
    "        del loaded_state[key]\n",
    "\n",
    "model.load_state_dict(loaded_state) #,strict=False)"
   ]
  },
  {
   "cell_type": "code",
   "execution_count": 13,
   "id": "adcc4e7e-ad7c-411b-90b9-28ca0ce5106c",
   "metadata": {
    "tags": []
   },
   "outputs": [],
   "source": [
    "# !pip install yfinance"
   ]
  },
  {
   "cell_type": "code",
   "execution_count": 79,
   "id": "05c5d389-b77f-4e48-b03c-9f03a1fbf47f",
   "metadata": {
    "tags": []
   },
   "outputs": [],
   "source": [
    "model.eval()\n",
    "\n",
    "import matplotlib.pyplot as plt\n",
    "import yfinance as yf\n",
    "import pandas as pd \n",
    "import numpy as np\n",
    "from sklearn.preprocessing import MinMaxScaler\n",
    "from sklearn.metrics import mean_squared_error, mean_absolute_error, mean_absolute_percentage_error\n",
    "\n",
    "\n",
    "def create_sequences_offline(symbol,start,end, seq_length, is_offline,is_train):\n",
    "  if is_offline:\n",
    "    if is_train:\n",
    "      file_name = f'input/train_{symbol}_{start}_{end}.csv'\n",
    "    else:\n",
    "      file_name = f'input/test_{symbol}_{start}_{end}.csv'\n",
    "    print(f\"Read input data from {file_name} file!\")\n",
    "    data = pd.read_csv(file_name,header=[0,1],index_col=0)\n",
    "  else:\n",
    "    data = yf.download(symbol, start=start, end=end)\n",
    "\n",
    "  prices = data['Close'].values.reshape(-1, 1)\n",
    "  scaler = MinMaxScaler(feature_range=(-1, 1)) # diff\n",
    "  prices_normalized = scaler.fit_transform(prices)\n",
    "  prices_tensor = torch.FloatTensor(prices_normalized)\n",
    "  \n",
    "  xs,ys = [],[]\n",
    "  for i in range(len(prices_tensor)-seq_length-1):\n",
    "    x = prices_tensor[i:(i+seq_length)] # use prices_tensor[0:5] to predict data[5], use data[1:6] to predict data[6]\n",
    "    y=prices_tensor[i+seq_length]\n",
    "    xs.append(x)\n",
    "    ys.append(y)\n",
    "  return torch.stack(xs), torch.stack(ys), scaler\n",
    "\n",
    "def predict(model, input_data, device):\n",
    "    input_data = input_data.to(device)\n",
    "    # print(input_data)\n",
    "    model.eval()  # Switch the model to evaluation mode\n",
    "    with torch.no_grad():  # Disable gradient calculation\n",
    "        prediction = model(input_data)  # Get the model's prediction\n",
    "\n",
    "    return prediction\n",
    "\n",
    "def eval_with_dataset(model, scaler,X,y,device,is_finished,symbol):\n",
    "    model.eval() # Prepare the model for evaluation\n",
    "\n",
    "    all_predictions = []\n",
    "    all_actuals = []\n",
    "    \n",
    "    input = X[0] # initial input \n",
    "    print(input)\n",
    "    with torch.no_grad():\n",
    "        for i in range(len(y)):\n",
    "        # for i in range(8):\n",
    "            # single_prediction = predict(model, X[i].unsqueeze(0),device)\n",
    "            single_prediction = predict(model, input.unsqueeze(0),device)\n",
    "            single_prediction = single_prediction.cpu()\n",
    "            predicted_value = single_prediction.item()  # Extract the last element\n",
    "            all_predictions.append(predicted_value)\n",
    "            all_actuals.append(y[i].item())\n",
    "            input = torch.cat([input,torch.tensor([[predicted_value]])],dim=0)[1:]\n",
    "            # print(input)\n",
    "            # print(torch.tensor([[predicted_value]]).shape)\n",
    "            # raise\n",
    "    # raise\n",
    "    \n",
    "    # Convert predictions and actuals to the original scale\n",
    "    all_predictions = scaler.inverse_transform(np.array(all_predictions).reshape(-1, 1))[1:]\n",
    "    all_actuals = scaler.inverse_transform(np.array(all_actuals).reshape(-1, 1))[:-1]\n",
    "\n",
    "    # Calculate MSE and MAE\n",
    "    mse = mean_squared_error(all_actuals, all_predictions).item()\n",
    "    mae = mean_absolute_error(all_actuals, all_predictions).item()\n",
    "    mape = mean_absolute_percentage_error(all_actuals, all_predictions).item()\n",
    "\n",
    "    print(f'Mean Squared Error: {mse}')\n",
    "    print(f'Mean Absolute Error: {mae}')\n",
    "    print(f'Mean Absolute Percentage Error: {mape}')\n",
    "\n",
    "    all_actuals_list = all_actuals.reshape(1,-1).squeeze().tolist()\n",
    "    all_predictions_list = all_predictions.reshape(1,-1).squeeze().tolist()\n",
    "\n",
    "    plt.figure(figsize=(12, 6))\n",
    "    plt.plot(all_actuals, label='Actual Prices', color='blue')\n",
    "    plt.plot(all_predictions, label='Predicted Prices', color='red')\n",
    "    plt.title(f'{symbol} Actual vs Predicted Stock Prices')\n",
    "    plt.xlabel('Time (Days)')\n",
    "    plt.ylabel('Stock Price')\n",
    "    plt.legend()\n",
    "    plt.show()\n",
    "    \n",
    "    # return mse, mae, mape\n",
    "    return all_actuals_list, all_predictions_list"
   ]
  },
  {
   "cell_type": "code",
   "execution_count": 82,
   "id": "d28a2d60-dede-45e8-8ff0-b80c9458077e",
   "metadata": {
    "tags": []
   },
   "outputs": [
    {
     "name": "stderr",
     "output_type": "stream",
     "text": [
      "[*********************100%***********************]  1 of 1 completed\n"
     ]
    }
   ],
   "source": [
    "symbol = 'AAPL' #'^GSPC'\n",
    "start_test = '2024-01-01'\n",
    "end_test = '2024-01-31'\n",
    "seq_length = 8\n",
    "X_test, y_test, scaler_test = create_sequences_offline(symbol,start_test,end_test, seq_length,is_offline=False,is_train=False)"
   ]
  },
  {
   "cell_type": "code",
   "execution_count": 83,
   "id": "4b055fc9-61f1-4243-903c-5db521c2e151",
   "metadata": {
    "tags": []
   },
   "outputs": [
    {
     "name": "stdout",
     "output_type": "stream",
     "text": [
      "tensor([[-0.3629],\n",
      "        [-0.5614],\n",
      "        [-0.8957],\n",
      "        [-1.0000],\n",
      "        [-0.3743],\n",
      "        [-0.4343],\n",
      "        [-0.2843],\n",
      "        [-0.3700]])\n",
      "Mean Squared Error: 45.70518521307256\n",
      "Mean Absolute Error: 5.874103992432356\n",
      "Mean Absolute Percentage Error: 0.030497831784616746\n"
     ]
    },
    {
     "data": {
      "image/png": "[encoded data removed]",
      "text/plain": [
       "<Figure size 1200x600 with 1 Axes>"
      ]
     },
     "metadata": {},
     "output_type": "display_data"
    }
   ],
   "source": [
    "act,pred = eval_with_dataset(model,scaler_test,X_test,y_test,device,True,symbol) # eval with new data"
   ]
  }
 ],
 "metadata": {
  "kernelspec": {
   "display_name": "Python 3 (ipykernel)",
   "language": "python",
   "name": "python3"
  },
  "language_info": {
   "codemirror_mode": {
    "name": "ipython",
    "version": 3
   },
   "file_extension": ".py",
   "mimetype": "text/x-python",
   "name": "python",
   "nbconvert_exporter": "python",
   "pygments_lexer": "ipython3",
   "version": "3.10.12"
  }
 },
 "nbformat": 4,
 "nbformat_minor": 5
}
